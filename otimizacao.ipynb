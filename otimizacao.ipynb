{
  "nbformat": 4,
  "nbformat_minor": 0,
  "metadata": {
    "colab": {
      "provenance": []
    },
    "kernelspec": {
      "name": "python3",
      "display_name": "Python 3"
    },
    "language_info": {
      "name": "python"
    }
  },
  "cells": [
    {
      "cell_type": "code",
      "source": [
        "from pyspark.sql import SparkSession\n",
        "from pyspark.sql.functions import col\n",
        "\n",
        "#  Criar a Spark Session\n",
        "spark = SparkSession.builder \\\n",
        "    .appName(\"Join Video Comments\") \\\n",
        "    .getOrCreate()\n",
        "\n",
        "#  Ler os arquivos parquet\n",
        "df_video = spark.read.parquet(\"/content/videos-preparados.snappy.parquet\")\n",
        "df_comments = spark.read.parquet(\"/content/videos-comments-tratados.snappy.parquet\")\n",
        "\n",
        "#  Imprimir os esquemas dos DataFrames\n",
        "print(\"Esquema do DataFrame de vídeos:\")\n",
        "df_video.printSchema()\n",
        "\n",
        "print(\"\\nEsquema do DataFrame de comentários:\")\n",
        "df_comments.printSchema()\n",
        "\n",
        "#  Imprimir as primeiras linhas de cada DataFrame\n",
        "print(\"\\nPrimeiras linhas do DataFrame de vídeos:\")\n",
        "df_video.show(15)\n",
        "\n",
        "print(\"\\nPrimeiras linhas do DataFrame de comentários:\")\n",
        "df_comments.show(15)"
      ],
      "metadata": {
        "id": "BSnov8qkcdON"
      },
      "execution_count": null,
      "outputs": []
    },
    {
      "cell_type": "code",
      "source": [
        "#  Criar tabelas temporárias para os DataFrames\n",
        "df_video.createOrReplaceTempView(\"video_table\")\n",
        "df_comments.createOrReplaceTempView(\"comments_table\")\n",
        "# Exibindo as mensagens de confirmação\n",
        "print(\"Tabela temporária 'video_table' criada com sucesso.\")\n",
        "print(\"Tabela temporária 'comments_table' criada com sucesso.\")\n",
        "# Visualizando o conteúdo das tabelas temporárias\n",
        "print(\"Conteúdo da tabela 'video_table':\")\n",
        "spark.sql(\"SELECT * FROM video_table\").show()\n",
        "\n",
        "print(\"Conteúdo da tabela 'comments_table':\")\n",
        "spark.sql(\"SELECT * FROM comments_table\").show()"
      ],
      "metadata": {
        "id": "7gK8C_e9djvm"
      },
      "execution_count": null,
      "outputs": []
    },
    {
      "cell_type": "code",
      "source": [
        "#  Mostrar os esquemas dos DataFrames para verificar os nomes das colunas\n",
        "print(\"Esquema de df_video:\")\n",
        "df_video.printSchema()\n",
        "\n",
        "print(\"\\nEsquema de df_comments:\")\n",
        "df_comments.printSchema()\n",
        "\n",
        "#  Renomear colunas para evitar espaços e inconsistências\n",
        "df_video_cleaned = df_video.withColumnRenamed(\"Video ID\", \"video_id\")\n",
        "df_comments_cleaned = df_comments.withColumnRenamed(\"Video ID\", \"video_id\")\n",
        "\n",
        "#  Criar tabelas temporárias com os nomes padronizados\n",
        "df_video_cleaned.createOrReplaceTempView(\"video_table\")\n",
        "df_comments_cleaned.createOrReplaceTempView(\"comments_table\")\n",
        "\n",
        "#  Realizar o JOIN usando Spark SQL\n",
        "join_video_comments = spark.sql(\"\"\"\n",
        "    SELECT v.*, c.*\n",
        "    FROM video_table v\n",
        "    JOIN comments_table c\n",
        "    ON v.video_id = c.video_id\n",
        "\"\"\")\n",
        "\n",
        "#  Mostrar algumas linhas do resultado para validar o JOIN\n",
        "print(\"\\nResultado do JOIN:\")\n",
        "join_video_comments.show()"
      ],
      "metadata": {
        "id": "mhltu5TKe0VY"
      },
      "execution_count": null,
      "outputs": []
    },
    {
      "cell_type": "code",
      "source": [
        "print(\"Esquema de df_video:\")\n",
        "df_video.printSchema()\n",
        "\n",
        "print(\"\\nEsquema de df_comments:\")\n",
        "df_comments.printSchema()"
      ],
      "metadata": {
        "id": "TIUOlilpe4EH"
      },
      "execution_count": null,
      "outputs": []
    },
    {
      "cell_type": "code",
      "source": [
        "df_video_cleaned = df_video.withColumnRenamed(\"Video ID\", \"video_id\")\n",
        "print(\"Renamed 'Video ID' to 'video_id' in df_video\")\n",
        "df_comments_cleaned = df_comments.withColumnRenamed(\"Video ID\", \"video_id\")\n",
        "print(\"Renamed 'Video ID' to 'video_id' in df_comments\")"
      ],
      "metadata": {
        "id": "DbV3-D16e77G"
      },
      "execution_count": null,
      "outputs": []
    },
    {
      "cell_type": "code",
      "source": [
        "#  Realizar o JOIN usando Spark SQL\n",
        "\n",
        "join_video_comments = spark.sql(\"\"\"\n",
        "    SELECT v.*, c.*\n",
        "    FROM video_table v\n",
        "    JOIN comments_table c\n",
        "    ON v.video_id = c.video_id\n",
        "\"\"\")\n",
        "\n",
        "# Exibir os resultados do JOIN\n",
        "join_video_comments.show()"
      ],
      "metadata": {
        "id": "By9wMq1NfBYi"
      },
      "execution_count": null,
      "outputs": []
    },
    {
      "cell_type": "code",
      "source": [
        "#  Verificar os esquemas dos DataFrames antes de realizar o JOIN\n",
        "print(\"Esquema de df_video:\")\n",
        "df_video.printSchema()\n",
        "\n",
        "print(\"\\nEsquema de df_comments:\")\n",
        "df_comments.printSchema()\n",
        "\n",
        "#  Padronizar os nomes das colunas removendo espaços e convertendo para minúsculas\n",
        "# Renomear colunas de df_video\n",
        "df_video_cleaned = df_video.select(\n",
        "    *[col(c).alias(c.lower().replace(\" \", \"_\")) for c in df_video.columns]\n",
        ")\n",
        "\n",
        "# Renomear colunas de df_comments\n",
        "df_comments_cleaned = df_comments.select(\n",
        "    *[col(c).alias(c.lower().replace(\" \", \"_\")) for c in df_comments.columns]\n",
        ")\n",
        "\n",
        "#  Verificar os esquemas após padronizar os nomes\n",
        "print(\"\\nEsquema de df_video_cleaned:\")\n",
        "df_video_cleaned.printSchema()\n",
        "\n",
        "print(\"\\nEsquema de df_comments_cleaned:\")\n",
        "df_comments_cleaned.printSchema()\n",
        "\n",
        "#  Criar tabelas temporárias\n",
        "df_video_cleaned.createOrReplaceTempView(\"video_table\")\n",
        "df_comments_cleaned.createOrReplaceTempView(\"comments_table\")\n",
        "\n",
        "#  Realizar o JOIN utilizando as colunas padronizadas\n",
        "join_video_comments = spark.sql(\"\"\"\n",
        "    SELECT v.*, c.*\n",
        "    FROM video_table v\n",
        "    JOIN comments_table c\n",
        "    ON v.video_id = c.video_id\n",
        "\"\"\")\n",
        "\n",
        "#  Mostrar o resultado do JOIN\n",
        "print(\"\\nResultado do JOIN:\")\n",
        "join_video_comments.show()\n",
        "\n",
        "#  Realizar o JOIN com reparticionamento\n",
        "df_video_repartition = df_video_cleaned.repartition(10)\n",
        "df_comments_repartition = df_comments_cleaned.repartition(10)\n",
        "\n",
        "# Criar tabelas temporárias novamente\n",
        "df_video_repartition.createOrReplaceTempView(\"video_table_repartition\")\n",
        "df_comments_repartition.createOrReplaceTempView(\"comments_table_repartition\")\n",
        "\n",
        "#  JOIN com reparticionamento\n",
        "join_video_comments_repartition = spark.sql(\"\"\"\n",
        "    SELECT v.*, c.*\n",
        "    FROM video_table_repartition v\n",
        "    JOIN comments_table_repartition c\n",
        "    ON v.video_id = c.video_id\n",
        "\"\"\")\n",
        "\n",
        "#  Mostrar o resultado do JOIN com reparticionamento\n",
        "print(\"\\nResultado do JOIN com reparticionamento:\")\n",
        "join_video_comments_repartition.show()"
      ],
      "metadata": {
        "id": "yeVCeoijfVvY"
      },
      "execution_count": null,
      "outputs": []
    },
    {
      "cell_type": "code",
      "source": [
        "#  Verificar os esquemas originais (apenas para conferência)\n",
        "print(\"Esquema original de df_video:\")\n",
        "df_video.printSchema()\n",
        "\n",
        "print(\"\\nEsquema original de df_comments:\")\n",
        "df_comments.printSchema()\n",
        "\n",
        "#  Renomear colunas para padronizar os nomes\n",
        "df_video_cleaned = df_video.select(\n",
        "    *[col(c).alias(c.lower().replace(\" \", \"_\")) for c in df_video.columns]\n",
        ")\n",
        "df_comments_cleaned = df_comments.select(\n",
        "    *[col(c).alias(c.lower().replace(\" \", \"_\")) for c in df_comments.columns]\n",
        ")\n",
        "\n",
        "#  Aplicar `coalesce` após renomear as colunas\n",
        "df_video_coalesce = df_video_cleaned.coalesce(2)\n",
        "df_comments_coalesce = df_comments_cleaned.coalesce(2)\n",
        "\n",
        "#  Criar tabelas temporárias para os DataFrames coalesce\n",
        "df_video_coalesce.createOrReplaceTempView(\"video_table_coalesce\")\n",
        "df_comments_coalesce.createOrReplaceTempView(\"comments_table_coalesce\")\n",
        "\n",
        "#  Realizar o JOIN utilizando as tabelas temporárias coalesce\n",
        "join_video_comments_coalesce = spark.sql(\"\"\"\n",
        "    SELECT v.*, c.*\n",
        "    FROM video_table_coalesce v\n",
        "    JOIN comments_table_coalesce c\n",
        "    ON v.video_id = c.video_id\n",
        "\"\"\")\n",
        "\n",
        "#  Exibir o resultado do JOIN\n",
        "print(\"\\nResultado do JOIN com coalesce:\")\n",
        "join_video_comments_coalesce.show()"
      ],
      "metadata": {
        "id": "LPsYigRdfuqT"
      },
      "execution_count": null,
      "outputs": []
    },
    {
      "cell_type": "code",
      "source": [
        "#  Visualizar o plano de execução\n",
        "print(\"Plano de execução com repartition:\")\n",
        "join_video_comments_repartition.explain()\n",
        "\n",
        "print(\"Plano de execução com coalesce:\")\n",
        "join_video_comments_coalesce.explain()"
      ],
      "metadata": {
        "id": "a8hQvjbUgL-B"
      },
      "execution_count": null,
      "outputs": []
    },
    {
      "cell_type": "code",
      "source": [
        "#  Mostrar o esquema do DataFrame original para verificar os nomes das colunas\n",
        "print(\"Esquema de df_video:\")\n",
        "df_video.printSchema()\n",
        "\n",
        "print(\"\\nEsquema de df_comments:\")\n",
        "df_comments.printSchema()\n",
        "\n",
        "#  Renomear as colunas do DataFrame para padronizar\n",
        "df_video_cleaned = df_video.select(\n",
        "    *[col(c).alias(c.lower().replace(\" \", \"_\")) for c in df_video.columns]\n",
        ")\n",
        "\n",
        "df_comments_cleaned = df_comments.select(\n",
        "    *[col(c).alias(c.lower().replace(\" \", \"_\")) for c in df_comments.columns]\n",
        ")\n",
        "\n",
        "#  Mostrar os esquemas após a renomeação\n",
        "print(\"\\nEsquema de df_video_cleaned:\")\n",
        "df_video_cleaned.printSchema()\n",
        "\n",
        "print(\"\\nEsquema de df_comments_cleaned:\")\n",
        "df_comments_cleaned.printSchema()\n",
        "\n",
        "#  Selecionar apenas as colunas necessárias após a limpeza\n",
        "df_video_selected = df_video_cleaned.select(\"video_id\", \"title\", \"keyword\")\n",
        "df_comments_selected = df_comments_cleaned.select(\"video_id\", \"comment\", \"likes\")\n",
        "\n",
        "#  Filtrar apenas os dados relevantes\n",
        "df_video_filtered = df_video_selected.filter(\"video_id IS NOT NULL\")\n",
        "df_comments_filtered = df_comments_selected.filter(\"video_id IS NOT NULL\")\n",
        "\n",
        "#  Criar tabelas temporárias\n",
        "df_video_filtered.createOrReplaceTempView(\"video_table\")\n",
        "df_comments_filtered.createOrReplaceTempView(\"comments_table\")\n",
        "\n",
        "#  Realizar o JOIN\n",
        "join_video_comments = spark.sql(\"\"\"\n",
        "    SELECT v.video_id, v.title, v.keyword, c.comment, c.likes\n",
        "    FROM video_table v\n",
        "    JOIN comments_table c\n",
        "    ON v.video_id = c.video_id\n",
        "\"\"\")\n",
        "\n",
        "#  Mostrar o resultado do JOIN\n",
        "print(\"\\nResultado do JOIN:\")\n",
        "join_video_comments.show()"
      ],
      "metadata": {
        "id": "eKDgNxBmgeGo"
      },
      "execution_count": null,
      "outputs": []
    },
    {
      "cell_type": "code",
      "source": [
        "#  Criar tabelas temporárias para garantir que as colunas foram padronizadas e filtradas\n",
        "df_video_filtered.createOrReplaceTempView(\"video_table\")\n",
        "df_comments_filtered.createOrReplaceTempView(\"comments_table\")\n",
        "\n",
        "#  Realizar o JOIN otimizado\n",
        "join_video_comments_optimized = spark.sql(\"\"\"\n",
        "    SELECT v.video_id, v.title, v.keyword, c.comment, c.likes\n",
        "    FROM video_table v\n",
        "    JOIN comments_table c\n",
        "    ON v.video_id = c.video_id\n",
        "\"\"\")\n",
        "\n",
        "#  Verificar o resultado do JOIN\n",
        "print(\"\\nResultado do JOIN otimizado:\")\n",
        "join_video_comments_optimized.show()\n",
        "\n",
        "#  Salvar o resultado otimizado\n",
        "join_video_comments_optimized.write.mode(\"overwrite\").parquet(\"join-videos-comments-otimizado\")"
      ],
      "metadata": {
        "id": "AbZLOZ1Sg8rw"
      },
      "execution_count": null,
      "outputs": []
    }
  ]
}